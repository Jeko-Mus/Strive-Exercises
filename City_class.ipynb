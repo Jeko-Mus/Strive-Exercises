{
 "cells": [
  {
   "cell_type": "code",
   "execution_count": 10,
   "metadata": {},
   "outputs": [],
   "source": [
    "import numpy as np\n",
    "import matplotlib.pyplot as plt"
   ]
  },
  {
   "cell_type": "code",
   "execution_count": 8,
   "metadata": {},
   "outputs": [],
   "source": [
    "class Country:\n",
    "    def __init__ (self, name, size, population,GDP):\n",
    "        self.name = name\n",
    "        self.size = size\n",
    "        self.population = population\n",
    "        self.GDP = GDP\n",
    "\n",
    "\n",
    "    def GDP_per_capita(self):\n",
    "        self.GDP_per_capita = 0\n",
    "        self.GDP_per_capita = self.GDP /self.population\n",
    "        print(self.GDP_per_capita)\n",
    "\n",
    "\n",
    "\n",
    "class City(Country):\n",
    "    def __init__ (self, name, size, population,GDP, state_minister, region):\n",
    "        self.state_minister = state_minister\n",
    "        self.region = region\n",
    "\n",
    "    \n",
    "city_1 = City(\"Hre\",10000,200,2000,\"MrsM\",\"Northwest\")\n"
   ]
  }
 ],
 "metadata": {
  "interpreter": {
   "hash": "3ef13ed475499759d50b572fc21d72ea61b0374d098be71f05d3278c3ed3dea2"
  },
  "kernelspec": {
   "display_name": "Python 3.8.12 32-bit ('strive': conda)",
   "language": "python",
   "name": "python3"
  },
  "language_info": {
   "codemirror_mode": {
    "name": "ipython",
    "version": 3
   },
   "file_extension": ".py",
   "mimetype": "text/x-python",
   "name": "python",
   "nbconvert_exporter": "python",
   "pygments_lexer": "ipython3",
   "version": "3.8.12"
  },
  "orig_nbformat": 4
 },
 "nbformat": 4,
 "nbformat_minor": 2
}
