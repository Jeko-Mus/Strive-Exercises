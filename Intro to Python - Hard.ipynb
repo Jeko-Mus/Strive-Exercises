{
 "cells": [
  {
   "cell_type": "markdown",
   "metadata": {},
   "source": [
    "**Exercise 4.1 (🌶️🌶️):** Define a function that receives a string parameter, and returns an integer indicating the count for all the letters of the alphabet that there are in the string. The expected output format is in a **dictionary** with the relevant keys and values. The capital version of a lower case letter is considered to be the same letter.\n",
    "\n",
    "This should sound quite familiar, try to do it without looking at your old code ;)\n",
    "\n",
    "**What is the challenge?**: Don't code 27 times the same line of code, learn how to do things that scale well."
   ]
  },
  {
   "cell_type": "code",
   "execution_count": 298,
   "metadata": {},
   "outputs": [
    {
     "data": {
      "text/plain": [
       "{'h': 2, 'a': 1, 'p': 3, 'y': 1, 't': 1, 'o': 1, 'e': 1, 'l': 1}"
      ]
     },
     "execution_count": 298,
     "metadata": {},
     "output_type": "execute_result"
    }
   ],
   "source": [
    "string1 = \"Happy to help\"\n",
    "\n",
    "def count_letters(sentence):\n",
    "   sentence=sentence.lower()\n",
    "   sentence=sentence.replace(\" \",\"\")\n",
    "   dict = {}\n",
    "   for letter in sentence:\n",
    "      if letter in dict:\n",
    "         dict[letter] += 1\n",
    "      else:\n",
    "         dict[letter] = 1\n",
    "   return dict\n",
    "\n",
    "count_letters(string1)"
   ]
  },
  {
   "cell_type": "markdown",
   "metadata": {},
   "source": [
    "**Exercise 5.6 (🌶️🌶️):** A prime number is a positive integer that is dividable by exactly two different numbers, namely 1 and itself. The lowest (and only even) prime number is 2. The first 10 prime numbers are 2, 3, 5, 7, 11, 13, 17, 19, 23, and 29. Write a function that returns a **list off all prime numbers** below a given number.\n",
    "\n",
    "Hint: In a loop where you test the possible dividers of the number, you can conclude that the number is not prime as soon as you encounter a number other than 1 or the number itself that divides it. However, you can *only* conclude that it actually *is* prime after you have tested all possible dividers.\n",
    "\n",
    "**What is the challenge here? You have to try to optimize your code and try to make it work for the highest prime number you can encounter before you run out of memory. For low numbers you should know how to do it already**"
   ]
  },
  {
   "cell_type": "code",
   "execution_count": 197,
   "metadata": {},
   "outputs": [
    {
     "name": "stdout",
     "output_type": "stream",
     "text": [
      "2\n",
      "3\n",
      "5\n",
      "7\n",
      "11\n",
      "13\n"
     ]
    }
   ],
   "source": [
    "#Your Code Here\n",
    "def prime_num(num):\n",
    "    for i in range(num): \n",
    "        if i > 1: # prime numbers are positive\n",
    "            for j in range(2, i): # need to use double nested loop to check disiable by itself and others\n",
    "                if (i % j) == 0:\n",
    "                    break\n",
    "            else:\n",
    "                print(i)\n",
    "\n",
    "prime_num(15)"
   ]
  },
  {
   "cell_type": "markdown",
   "metadata": {},
   "source": [
    "**Exercise 5.7 (🌶️🌶️):** Write a function that prints all integers between the parameters `a` and `b` that can be written as the sum of two squares. Produce output in the form of `z = x**2 + y**2`, e.g., `58 = 3**2 + 7**2`. If a number occurs on the list with multiple *different* ways of writing it as the sum of two squares, that is acceptable. "
   ]
  },
  {
   "cell_type": "code",
   "execution_count": 182,
   "metadata": {},
   "outputs": [
    {
     "name": "stdout",
     "output_type": "stream",
     "text": [
      "2 = 1**2 + 1**2\n",
      "5 = 1**2 + 2**2\n",
      "10 = 1**2 + 3**2\n",
      "5 = 2**2 + 1**2\n",
      "8 = 2**2 + 2**2\n",
      "13 = 2**2 + 3**2\n",
      "10 = 3**2 + 1**2\n",
      "13 = 3**2 + 2**2\n",
      "18 = 3**2 + 3**2\n"
     ]
    }
   ],
   "source": [
    "#Your Code Here\n",
    "def sum_squares(a,b):\n",
    "        for x in range(a,b): # need to use double nested loop to get all possible combinations of two numbers\n",
    "            for y in range(a,b):\n",
    "                z = (x**2) + (y**2)\n",
    "                print (str(z) + \" = \" + str(x) + \"**2 + \" + str(y) + \"**2\")\n",
    "        \n",
    "\n",
    "sum_squares(1,4)"
   ]
  },
  {
   "cell_type": "code",
   "execution_count": null,
   "metadata": {},
   "outputs": [],
   "source": []
  }
 ],
 "metadata": {
  "kernelspec": {
   "display_name": "Python 3",
   "language": "python",
   "name": "python3"
  },
  "language_info": {
   "codemirror_mode": {
    "name": "ipython",
    "version": 3
   },
   "file_extension": ".py",
   "mimetype": "text/x-python",
   "name": "python",
   "nbconvert_exporter": "python",
   "pygments_lexer": "ipython3",
   "version": "3.8.12"
  }
 },
 "nbformat": 4,
 "nbformat_minor": 4
}
