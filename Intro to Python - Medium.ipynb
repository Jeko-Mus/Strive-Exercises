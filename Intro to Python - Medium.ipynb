{
 "cells": [
  {
   "cell_type": "markdown",
   "metadata": {},
   "source": [
    "**Exercise 1.3 (🌶️):** You look at the clock and see that it is currently 14.00h. You set an alarm to go off 535 hours later. At what time will the alarm go off? Write a program that prints the answer. Hint: for the best solution, you will need the modulo operator. Second hint: The answer is 21.00h, but of course, this exercise is not about the answer, but about how you get it."
   ]
  },
  {
   "cell_type": "code",
   "execution_count": 6,
   "metadata": {},
   "outputs": [
    {
     "name": "stdout",
     "output_type": "stream",
     "text": [
      "21\n"
     ]
    }
   ],
   "source": [
    "#Your Code Here\n",
    "time_now =14\n",
    "#  535 % 24  # divide the hours by 24 to get number of days, use modulo to get remaining hours on that future day\n",
    "alarm_time = time_now + (535 % 24)\n",
    "print(alarm_time)"
   ]
  },
  {
   "cell_type": "markdown",
   "metadata": {},
   "source": [
    "**Exercise 5.4 (🌶️):** \"99 bottles of beer\" is a traditional song in the United States and Canada. It is popular to sing on long trips, as it has a very repetitive format which is easy to memorize, and can take a long time to sing. The song's simple lyrics are as follows: \"99 bottles of beer on the wall, 99 bottles of beer. Take one down, pass it around, 98 bottles of beer on the wall.\" The same verse is repeated, each time with one fewer bottle. The song is completed when the singer or singers reach zero. Write a function that generates and prints all the verses of the song (though you might start a bit lower, for instance with 10 bottles). Make sure that your loop is not endless, and that you use the proper inflection for the word \"bottle\"."
   ]
  },
  {
   "cell_type": "code",
   "execution_count": 147,
   "metadata": {},
   "outputs": [
    {
     "name": "stdout",
     "output_type": "stream",
     "text": [
      "5 bottles of beer on the wall, 5 bottles of beer. Take one down, pass it around,4 bottles of beer on the wall\n",
      "4 bottles of beer on the wall, 4 bottles of beer. Take one down, pass it around,3 bottles of beer on the wall\n",
      "3 bottles of beer on the wall, 3 bottles of beer. Take one down, pass it around,2 bottles of beer on the wall\n",
      "2 bottles of beer on the wall, 2 bottles of beer. Take one down, pass it around,1 bottles of beer on the wall\n",
      "1 bottle of beer on the wall, 1 bottle of beer. Take one down, pass it around, no bottles of beer on the wall\n"
     ]
    }
   ],
   "source": [
    "#Your Code Here\n",
    "\n",
    "def beersong(num):\n",
    "    while num > 1:\n",
    "        n1 = num\n",
    "        n2 = n1\n",
    "        n3 = n1 - 1\n",
    "        num -=1\n",
    "        print (str(n1) + \" bottles of beer on the wall, \" + str(n2) + \" bottles of beer. Take one down, pass it around,\" + str(n3) + \" bottles of beer on the wall\")\n",
    "    else:\n",
    "        if num == 1:\n",
    "            print(str(num) + \" bottle of beer on the wall, \" + str(num) + \" bottle of beer. Take one down, pass it around, no bottles of beer on the wall\")\n",
    "beersong(5)  \n",
    "\n",
    "\n"
   ]
  },
  {
   "cell_type": "markdown",
   "metadata": {},
   "source": [
    "**Exercise 5.5 (🌶️):** The Fibonacci sequence is a sequence of numbers that starts with 1, followed by 1 again. Every next number is the sum of the two previous numbers. I.e., the sequence starts with 1, 1, 2, 3, 5, 8, 13, 21,... Write a function that calculates and prints the Fibonacci sequence until the numbers get higher than a `maximum`."
   ]
  },
  {
   "cell_type": "code",
   "execution_count": 103,
   "metadata": {},
   "outputs": [
    {
     "name": "stdout",
     "output_type": "stream",
     "text": [
      "1\n",
      "2\n",
      "3\n",
      "5\n",
      "8\n",
      "13\n",
      "21\n"
     ]
    }
   ],
   "source": [
    "#Your Code Here\n",
    "def fibonacci(maximum):\n",
    "    num1 = 0\n",
    "    num2 = 1\n",
    "    for i in range(maximum):\n",
    "        num3 = num1 + num2\n",
    "        num1 = num2\n",
    "        num2 = num3\n",
    "        print (num2)\n",
    "fibonacci(7)\n"
   ]
  },
  {
   "cell_type": "markdown",
   "metadata": {},
   "source": [
    "**Exercise 5.8 (🌶️):** A, B, C, and D are all different digits. The number DCBA is equal to 4 times the number ABCD. What are the digits? Note: to make ABCD and DCBA conventional numbers, neither A nor D can be zero. Use a quadruple-nested loop."
   ]
  },
  {
   "cell_type": "code",
   "execution_count": 104,
   "metadata": {},
   "outputs": [
    {
     "name": "stdout",
     "output_type": "stream",
     "text": [
      "2 1 7 8\n"
     ]
    }
   ],
   "source": [
    "#Your Code Here\n",
    "# Solve 4*ABCD == DCBA\n",
    "\n",
    "def nested_nest():\n",
    "    for a in range(1,10):\n",
    "        for b in range(1,10):\n",
    "            for c in range(1,10):\n",
    "                for d in range(1,10):\n",
    "                    if 4*(a*1000 + b*100 + c*10 + d*1) == (a*1 + b*10 + c*100 + d*1000):\n",
    "                        print (a, b, c, d)\n",
    "    return\n",
    "nested_nest()\n",
    "    "
   ]
  }
 ],
 "metadata": {
  "kernelspec": {
   "display_name": "Python 3",
   "language": "python",
   "name": "python3"
  },
  "language_info": {
   "codemirror_mode": {
    "name": "ipython",
    "version": 3
   },
   "file_extension": ".py",
   "mimetype": "text/x-python",
   "name": "python",
   "nbconvert_exporter": "python",
   "pygments_lexer": "ipython3",
   "version": "3.8.12"
  }
 },
 "nbformat": 4,
 "nbformat_minor": 4
}
