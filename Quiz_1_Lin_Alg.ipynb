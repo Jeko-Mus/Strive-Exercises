{
 "cells": [
  {
   "cell_type": "markdown",
   "metadata": {},
   "source": [
    "## Linear Algebra Quiz #1\n",
    "\n",
    "![title](./img/1_0.jpeg)\n",
    "\n",
    "We strongly suggest working with numpy :)"
   ]
  },
  {
   "cell_type": "code",
   "execution_count": 69,
   "metadata": {},
   "outputs": [],
   "source": [
    "import numpy as np"
   ]
  },
  {
   "cell_type": "markdown",
   "metadata": {},
   "source": [
    "![title](./img/1_1.png)"
   ]
  },
  {
   "cell_type": "code",
   "execution_count": 70,
   "metadata": {},
   "outputs": [
    {
     "data": {
      "text/plain": [
       "5.477225575051661"
      ]
     },
     "execution_count": 70,
     "metadata": {},
     "output_type": "execute_result"
    }
   ],
   "source": [
    "# type a function that given a 3_dimensional vector it is able to calculate its magnitude\n",
    "\n",
    "def magnitude_3(a,b,c):\n",
    "    magn = np.sqrt(a**2 + b**2 + c**2)\n",
    "    return magn\n",
    "\n",
    "magnitude_3(1,2,3)\n",
    "\n",
    "# type a function that given a n_dimensional vector it is able to calculate its magnitude\n",
    "# if you want to try this from python (not jupyter notebook) https://docs.python.org/3/library/argparse.html would be a good addition\n",
    "# if you are doing this from a jupyter notebook only, you can try to prompt the user for an input  \n",
    "\n",
    "def magnitude_complete(vect):\n",
    "        return np.linalg.norm(vect)\n",
    "\n",
    "#vector_a = int(input(\"Enter a vector\"))\n",
    "vector_a = np.array([1,2,3,4])\n",
    "magnitude_complete(vector_a)\n",
    "\n"
   ]
  },
  {
   "cell_type": "markdown",
   "metadata": {},
   "source": [
    "uncomment the following line when you are ready to test"
   ]
  },
  {
   "cell_type": "code",
   "execution_count": 71,
   "metadata": {},
   "outputs": [],
   "source": [
    "#assert magnitude_complete(1) == 1.0\n",
    "#assert magnitude_complete(1,2) >= 2.236\n",
    "#assert magnitude_complete(1,2,3) >= 3.741\n",
    "#assert magnitude_complete(1,2,3,4,5) >= 5.477\n",
    "#assert magnitude_complete(1,2,3,4,5) >= 7.416"
   ]
  },
  {
   "cell_type": "markdown",
   "metadata": {},
   "source": [
    "![title](./img/1_2.png)"
   ]
  },
  {
   "cell_type": "code",
   "execution_count": 72,
   "metadata": {},
   "outputs": [
    {
     "data": {
      "text/plain": [
       "1.0"
      ]
     },
     "execution_count": 72,
     "metadata": {},
     "output_type": "execute_result"
    }
   ],
   "source": [
    "def magnitude_vectors(a, b):\n",
    "    #checks that size is equal\n",
    "    if a.shape == b.shape:\n",
    "    #returns the magnitude\n",
    "        c = a + b\n",
    "    return np.linalg.norm(c)\n",
    "\n",
    "x = np.array([5,1])\n",
    "y = np.array([-4,-1])\n",
    "magnitude_vectors(x,y)"
   ]
  },
  {
   "cell_type": "markdown",
   "metadata": {},
   "source": [
    "![title](./img/1_3.png)"
   ]
  },
  {
   "cell_type": "code",
   "execution_count": 73,
   "metadata": {},
   "outputs": [
    {
     "data": {
      "text/plain": [
       "12.528807709151511"
      ]
     },
     "execution_count": 73,
     "metadata": {},
     "output_type": "execute_result"
    }
   ],
   "source": [
    "def direction_vectors(a, b):\n",
    "    #checks that size is equal\n",
    "     if a.shape == b.shape:\n",
    "    #returns the angle. Hint: use the arctan\n",
    "    #tan(theta) = magnitude of y/ magnitude of x\n",
    "        length_x = a[0] - b[0]\n",
    "        length_y = a[1]- b[1]\n",
    "        tan_theta = length_y/length_x\n",
    "        theta = np.arctan(tan_theta)\n",
    "        degrees = theta * 180 / np.pi\n",
    "        return degrees\n",
    "\n",
    "x = np.array([5,1])\n",
    "y = np.array([-4,-1])\n",
    "direction_vectors(x, y)\n",
    "\n",
    "\n",
    "\n",
    "# or if you want to do it all in one batch:\n",
    "#def magdir_vectors(a, b):\n",
    "    #checks that size is equal\n",
    "    \n",
    "    #returns the magnitude and direction \n",
    "    # as alternative, print them in a nicely printed format like:\n",
    "    #\"The magnitude of a + b is X and the direction is Y\""
   ]
  },
  {
   "cell_type": "markdown",
   "metadata": {},
   "source": [
    "![title](./img/1_4.png)\n",
    "- What is the magnitude of αx⃗? \n",
    "- If α>0, will the direction of the resulting vector change?\n",
    "- If α<0, will the direction of the resulting vector change?\n",
    "- If −1<α<1, will ∥αx⃗∥  increase, decrease or stay the same?"
   ]
  },
  {
   "cell_type": "markdown",
   "metadata": {},
   "source": [
    "#### Answers\n",
    "\n",
    "- Magnitude of alpha x is equal to x's magnitude multiplied by alpha\n",
    "- No\n",
    "- yes\n",
    "- depends?"
   ]
  },
  {
   "cell_type": "code",
   "execution_count": 74,
   "metadata": {},
   "outputs": [
    {
     "data": {
      "text/plain": [
       "6.708203932499369"
      ]
     },
     "execution_count": 74,
     "metadata": {},
     "output_type": "execute_result"
    }
   ],
   "source": [
    "def alpha_magnitude(alpha, b):\n",
    "    return alpha * (np.linalg.norm(b))\n",
    "\n",
    "vector = np.array([1,2])\n",
    "alpha_magnitude(3, vector)\n",
    "    \n",
    "    #returns the resulting magnitude,\n",
    "    # as alternative, just print it\n"
   ]
  },
  {
   "cell_type": "markdown",
   "metadata": {},
   "source": [
    "For the above exercise, write down in markdown or in a comment if the direction has changed and what has happened to the vector."
   ]
  }
 ],
 "metadata": {
  "kernelspec": {
   "display_name": "Python 3",
   "language": "python",
   "name": "python3"
  },
  "language_info": {
   "codemirror_mode": {
    "name": "ipython",
    "version": 3
   },
   "file_extension": ".py",
   "mimetype": "text/x-python",
   "name": "python",
   "nbconvert_exporter": "python",
   "pygments_lexer": "ipython3",
   "version": "3.8.12"
  },
  "varInspector": {
   "cols": {
    "lenName": 16,
    "lenType": 16,
    "lenVar": 40
   },
   "kernels_config": {
    "python": {
     "delete_cmd_postfix": "",
     "delete_cmd_prefix": "del ",
     "library": "var_list.py",
     "varRefreshCmd": "print(var_dic_list())"
    },
    "r": {
     "delete_cmd_postfix": ") ",
     "delete_cmd_prefix": "rm(",
     "library": "var_list.r",
     "varRefreshCmd": "cat(var_dic_list()) "
    }
   },
   "types_to_exclude": [
    "module",
    "function",
    "builtin_function_or_method",
    "instance",
    "_Feature"
   ],
   "window_display": false
  }
 },
 "nbformat": 4,
 "nbformat_minor": 2
}
