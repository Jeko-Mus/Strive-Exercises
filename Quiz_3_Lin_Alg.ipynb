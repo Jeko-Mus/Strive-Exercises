{
 "cells": [
  {
   "cell_type": "markdown",
   "metadata": {},
   "source": [
    "## Linear Algebra Quiz #3\n",
    "\n",
    "![title](./img/3_0.jpeg)\n",
    "\n",
    "We strongly suggest working with numpy :)"
   ]
  },
  {
   "cell_type": "code",
   "execution_count": 1,
   "metadata": {},
   "outputs": [],
   "source": [
    "import numpy as np"
   ]
  },
  {
   "cell_type": "markdown",
   "metadata": {},
   "source": [
    "![title](./img/3_2.png)\n",
    "![title](./img/3_3.png)\n",
    "Create a program that can output\n",
    "\n",
    "- What is the value of element c23​ of Matrix C where C=A x B ?\n",
    "- What is the value of element c23​ of Matrix C where C=B x A ?"
   ]
  },
  {
   "cell_type": "markdown",
   "metadata": {},
   "source": [
    "#### Answers\n",
    "- Element c23​ for a and b is 2\n",
    "- Element c23​ for a_1 and b_1 is not possible due to row x column dot not being compatable"
   ]
  },
  {
   "cell_type": "code",
   "execution_count": 22,
   "metadata": {},
   "outputs": [
    {
     "name": "stdout",
     "output_type": "stream",
     "text": [
      "[[ 23.   18.    4. ]\n",
      " [ 22.  -16.5   5. ]\n",
      " [-71.    2.  -35. ]]\n",
      "2.0\n"
     ]
    }
   ],
   "source": [
    "def matrix_mult(a,b):\n",
    "    c = np.dot(a,b)\n",
    "    return c\n",
    "\n",
    "a = np.array([[3,1,2],[-5,4,1],[0,3,-8]])\n",
    "b = np.array([[0,5,-1],[3,2,-1],[10,0.5,4]])\n",
    "\n",
    "a_1 = np.array([0.6,-15,2,5,98])\n",
    "b_1 = np.array([[2,2,-4],[9,-14,0],[13,-0.5,44],[1,9,4],[0,0,5]])\n",
    "\n",
    "c = matrix_mult(a,b)\n",
    "c23 = c[2][1]\n",
    "print(c)\n",
    "print(c23)"
   ]
  },
  {
   "cell_type": "code",
   "execution_count": null,
   "metadata": {},
   "outputs": [],
   "source": [
    "# okay numpy is great but... how would you inverse a matrix by hand?\n",
    "\n",
    "#for 2x2 matrix\n",
    "def inverse_matrix(A):\n",
    "    a = A\n",
    "    determ = 1/((a[0,0] * a[1,1]) - (a[0,1] * a[1,0]))\n",
    "    \n",
    "    new_a = \n",
    "    return new_a\n",
    "\n",
    "    return\n",
    "\n",
    "a = np.array([[1,2],[3,4]])"
   ]
  },
  {
   "cell_type": "markdown",
   "metadata": {},
   "source": [
    "![title](./img/3_1.png)\n",
    "Create a program that can output\n",
    "\n",
    "- What is the value of the ijth element if i = 2 and j=3?\n",
    "- What is the value of the ijth element if i = 3 and j=1?"
   ]
  },
  {
   "cell_type": "code",
   "execution_count": 24,
   "metadata": {},
   "outputs": [],
   "source": [
    "def i_j(A,B,C,D):\n",
    "    A = A[:,0] = 2\n",
    "    A = A[:,1] = 3\n",
    "    B = B[:,0] = 3\n",
    "    B = B[:,1] = 1\n",
    "    C = C\n",
    "    D = A + B - C\n",
    "    return D\n"
   ]
  },
  {
   "cell_type": "code",
   "execution_count": null,
   "metadata": {},
   "outputs": [],
   "source": [
    "# Just answer using code --> easy stuff!\n",
    "\n",
    "# Harder\n",
    "# Can you build a matrix solver that can do output the result given n matrices and a sequence of operations such as [add subtract multiply transpose?]\n",
    "#Some ideas on valid operations: Multiplication Addition Subtraction Inverstion Transposed. "
   ]
  },
  {
   "cell_type": "markdown",
   "metadata": {},
   "source": [
    "![title](./img/3_3.png)\n",
    "Create a program that can output\n",
    "- How many rows will C have?\n",
    "- How many columns will C have?\n",
    "- What will be the value of c13​?"
   ]
  },
  {
   "cell_type": "code",
   "execution_count": null,
   "metadata": {},
   "outputs": [],
   "source": []
  }
 ],
 "metadata": {
  "kernelspec": {
   "display_name": "Python 3",
   "language": "python",
   "name": "python3"
  },
  "language_info": {
   "codemirror_mode": {
    "name": "ipython",
    "version": 3
   },
   "file_extension": ".py",
   "mimetype": "text/x-python",
   "name": "python",
   "nbconvert_exporter": "python",
   "pygments_lexer": "ipython3",
   "version": "3.8.12"
  },
  "varInspector": {
   "cols": {
    "lenName": 16,
    "lenType": 16,
    "lenVar": 40
   },
   "kernels_config": {
    "python": {
     "delete_cmd_postfix": "",
     "delete_cmd_prefix": "del ",
     "library": "var_list.py",
     "varRefreshCmd": "print(var_dic_list())"
    },
    "r": {
     "delete_cmd_postfix": ") ",
     "delete_cmd_prefix": "rm(",
     "library": "var_list.r",
     "varRefreshCmd": "cat(var_dic_list()) "
    }
   },
   "types_to_exclude": [
    "module",
    "function",
    "builtin_function_or_method",
    "instance",
    "_Feature"
   ],
   "window_display": false
  }
 },
 "nbformat": 4,
 "nbformat_minor": 2
}
