{
 "cells": [
  {
   "cell_type": "code",
   "execution_count": 1,
   "metadata": {},
   "outputs": [],
   "source": [
    "import numpy as np"
   ]
  },
  {
   "cell_type": "markdown",
   "metadata": {},
   "source": [
    "#### 72. How to swap two rows of an array? (★★★)"
   ]
  },
  {
   "cell_type": "code",
   "execution_count": 7,
   "metadata": {},
   "outputs": [
    {
     "name": "stdout",
     "output_type": "stream",
     "text": [
      "[[5 7 8]\n",
      " [9 2 0]]\n",
      "[[9 2 0]\n",
      " [5 7 8]]\n"
     ]
    }
   ],
   "source": [
    "a = np.array([[5,7,8],[9,2,0]])\n",
    "print(a)\n",
    "b = np.flip(a, axis=0)\n",
    "print(b)"
   ]
  },
  {
   "cell_type": "markdown",
   "metadata": {},
   "source": [
    "#### 75. How to compute averages using a sliding window over an array? (★★★)"
   ]
  },
  {
   "cell_type": "code",
   "execution_count": 105,
   "metadata": {},
   "outputs": [
    {
     "name": "stdout",
     "output_type": "stream",
     "text": [
      "2.5\n",
      "3.0\n",
      "3.5\n"
     ]
    }
   ],
   "source": [
    "a = np.array([1,2,3,4])\n",
    "\n",
    "a_sum = np.sum(a)\n",
    "a_mean = a_sum/4\n",
    "print(a_mean)\n",
    "\n",
    "b_sum = np.sum(a[1:]) # remove first number and compute remaining three numbers averages\n",
    "b_mean = b_sum/3\n",
    "print(b_mean)\n",
    "\n",
    "c_sum = np.sum(a[2:]) # remove first two numbers and compute remaining two numbers averages\n",
    "c_mean = c_sum/2\n",
    "print(c_mean)\n"
   ]
  },
  {
   "cell_type": "code",
   "execution_count": 130,
   "metadata": {},
   "outputs": [
    {
     "name": "stdout",
     "output_type": "stream",
     "text": [
      "10.0\n",
      "5.0\n",
      "3.3333333333333335\n",
      "2.5\n"
     ]
    }
   ],
   "source": [
    "# Trying to do the for loop here but failing\n",
    "\n",
    "z = np.array([1,2,3,4])\n",
    "\n",
    "def mva(nums):\n",
    "    i = len(z)\n",
    "    for i in nums:\n",
    "        a_sum = np.sum(nums)\n",
    "        a_mean = a_sum/i\n",
    "        print(a_mean)\n",
    "        i-=1\n",
    "\n",
    "mva(z)\n"
   ]
  }
 ],
 "metadata": {
  "interpreter": {
   "hash": "3ef13ed475499759d50b572fc21d72ea61b0374d098be71f05d3278c3ed3dea2"
  },
  "kernelspec": {
   "display_name": "Python 3.8.12 32-bit ('strive': conda)",
   "language": "python",
   "name": "python3"
  },
  "language_info": {
   "codemirror_mode": {
    "name": "ipython",
    "version": 3
   },
   "file_extension": ".py",
   "mimetype": "text/x-python",
   "name": "python",
   "nbconvert_exporter": "python",
   "pygments_lexer": "ipython3",
   "version": "3.8.12"
  },
  "orig_nbformat": 4
 },
 "nbformat": 4,
 "nbformat_minor": 2
}
