{
 "cells": [
  {
   "cell_type": "markdown",
   "metadata": {},
   "source": [
    "1. Pyramid Challenge"
   ]
  },
  {
   "cell_type": "code",
   "execution_count": 372,
   "metadata": {},
   "outputs": [
    {
     "name": "stdout",
     "output_type": "stream",
     "text": [
      "#\n",
      "\n",
      "##\n",
      "\n",
      "###\n",
      "\n",
      "####\n",
      "\n",
      "#####\n",
      "\n"
     ]
    }
   ],
   "source": [
    "def pyramid(x):\n",
    "    for i in range(x):\n",
    "        print(\"#\"*(i+1) + \"\\n\") #plus one so it does not print from zero and n for new line\n",
    "    \n",
    "pyramid(5)"
   ]
  },
  {
   "cell_type": "markdown",
   "metadata": {},
   "source": [
    "2. Inverted Pyramid Challenge"
   ]
  },
  {
   "cell_type": "code",
   "execution_count": 373,
   "metadata": {},
   "outputs": [
    {
     "name": "stdout",
     "output_type": "stream",
     "text": [
      "     #\n",
      "\n",
      "    ##\n",
      "\n",
      "   ###\n",
      "\n",
      "  ####\n",
      "\n",
      " #####\n",
      "\n"
     ]
    }
   ],
   "source": [
    "def inv_pyramid(x):\n",
    "    for i in range(x):\n",
    "        print(\" \"*(x-i) + \"#\"*(i+1) + \"\\n\" ) # multiply blank space by (x - i)\n",
    "    \n",
    "inv_pyramid(5)"
   ]
  },
  {
   "cell_type": "markdown",
   "metadata": {},
   "source": [
    "3. Strive School Challenge"
   ]
  },
  {
   "cell_type": "markdown",
   "metadata": {},
   "source": [
    "In this challenge you need to code a function that receives a list of numbers and returns:\n",
    "\n",
    "Strive if the number is divisible by 3\n",
    "School if the number is divisible by 5\n",
    "Strive School if the number is divisible by 3 and 5\n",
    "the number itself otherwise\n",
    "i. e. strive_school([1, 2, 3, 5, 15]) outputs [1, 2, Strive, School, Strive School]"
   ]
  },
  {
   "cell_type": "code",
   "execution_count": 374,
   "metadata": {},
   "outputs": [
    {
     "name": "stdout",
     "output_type": "stream",
     "text": [
      "1\n",
      "2\n",
      "Strive\n",
      "School\n",
      "Strive School\n"
     ]
    }
   ],
   "source": [
    "def strive_school(list):\n",
    "    \n",
    "    for num in list:\n",
    "        if (num % 3 == 0) and (num % 5 == 0):\n",
    "            print(\"Strive School\")\n",
    "            continue\n",
    "        if num % 3 == 0:\n",
    "            print(\"Strive\")\n",
    "            continue\n",
    "        if num % 5 == 0:\n",
    "            print(\"School\")\n",
    "            continue  \n",
    "        else:\n",
    "            print(num)\n",
    "\n",
    "\n",
    "strive_school([1, 2, 3, 5, 15])\n"
   ]
  },
  {
   "cell_type": "markdown",
   "metadata": {},
   "source": [
    "4. Non Duplicated Challenge"
   ]
  },
  {
   "cell_type": "markdown",
   "metadata": {},
   "source": [
    "In this challenge you need to code a function that receives a list of numbers and returns the non-duplicated number:\n",
    "\n",
    " \n",
    "\n",
    "i. e. function_whatever([1, 1, 2, 2, 3, 5, 5, 6, 6]) outputs 3\n",
    "\n",
    "i. e. function_whatever([1, 2, 2, 3, 3]) outputs 1"
   ]
  },
  {
   "cell_type": "code",
   "execution_count": 375,
   "metadata": {},
   "outputs": [
    {
     "name": "stdout",
     "output_type": "stream",
     "text": [
      "3\n",
      "17\n",
      "23\n",
      "9\n"
     ]
    }
   ],
   "source": [
    "list = [1,1,2,2,3,5,5,6,6,17,23,9,5]\n",
    "\n",
    "def non_dupl(list):\n",
    "    for i in list:\n",
    "        a = list.count(i) # count how many times each number comes up\n",
    "        if a == 1:  # find numbers that only have a count of 1\n",
    "            print(i)\n",
    "\n",
    "non_dupl(list)      "
   ]
  },
  {
   "cell_type": "markdown",
   "metadata": {},
   "source": [
    "5. Secret Agent Challenge"
   ]
  },
  {
   "cell_type": "markdown",
   "metadata": {},
   "source": [
    "The goal of this task is to write a function that is able to find the Secret Agent (if any) in a group of people.\n",
    "\n",
    "The function's parameters are the number of the people and a list of pairs (a list of two elements) with the following scheme:\n",
    "\n",
    "the first element of the pair is the name of the person who has information about the person in the second element of the pair. Example: [[felix, lara], [felix, jeno], [lara, jeno]] means that  Felix has information about Jeno and Lara, then Lara has information about Jeno.\n",
    "\n",
    " \n",
    "\n",
    "Rules:\n",
    "\n",
    "A Secret Agent is the person that has information about all the other people, but no one has information about the Secret Agent.\n",
    "\n",
    "So, in the previous example Felix has information about all the others, but no one has information about Felix -> Felix is the Secret Agent.\n",
    "\n",
    "You have to return:\n",
    "\n",
    "the Secret Agent (if any): [[felix, lara], [felix, jeno], [lara, jeno]] -> returns felix | [[felix, lara], [lara, jeno], [lara, felix]] -> returns lara\n",
    "0 if there isn't a Secret Agent ([[felix, lara], [lara, jeno], [jeno, felix]] -> returns 0) \n",
    "if the number of the people is less or equals to 0, or the length of the list is grater than the number of the people or if the length of the pair is not 2 -> returns -1"
   ]
  },
  {
   "cell_type": "code",
   "execution_count": 376,
   "metadata": {},
   "outputs": [
    {
     "name": "stdout",
     "output_type": "stream",
     "text": [
      "a is the agent\n"
     ]
    }
   ],
   "source": [
    "agents = [(\"a\", \"b\"), (\"a\", \"c\"), (\"b\", \"c\")]\n",
    "\n",
    "def secret_agent(num,pairs):\n",
    "    if pairs[0][0] == pairs[1][0] or (pairs[2][0]):\n",
    "        print (pairs[0][0] + \" is the agent\")\n",
    "    elif pairs[1][0] == pairs[0][0] or (pairs[2][0]):\n",
    "        print (pairs[1][0] + \" is the agent\")\n",
    "    elif pairs[2][0] == pairs[0][0] or (pairs[1][0]):\n",
    "        print (pairs[2][0] + \" is the agent\")\n",
    "    elif (num <= 0) or (len(pairs[0]) > num) or (len(pairs[0]) != 2):\n",
    "        print(\"-1\")\n",
    "    else:\n",
    "        0\n",
    "        \n",
    "\n",
    "secret_agent(3,agents)\n"
   ]
  }
 ],
 "metadata": {
  "interpreter": {
   "hash": "3ef13ed475499759d50b572fc21d72ea61b0374d098be71f05d3278c3ed3dea2"
  },
  "kernelspec": {
   "display_name": "Python 3.8.12 32-bit ('strive': conda)",
   "language": "python",
   "name": "python3"
  },
  "language_info": {
   "codemirror_mode": {
    "name": "ipython",
    "version": 3
   },
   "file_extension": ".py",
   "mimetype": "text/x-python",
   "name": "python",
   "nbconvert_exporter": "python",
   "pygments_lexer": "ipython3",
   "version": "3.8.12"
  },
  "orig_nbformat": 4
 },
 "nbformat": 4,
 "nbformat_minor": 2
}
