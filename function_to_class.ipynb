{
 "cells": [
  {
   "cell_type": "markdown",
   "metadata": {},
   "source": [
    "Function"
   ]
  },
  {
   "cell_type": "code",
   "execution_count": 3,
   "metadata": {},
   "outputs": [
    {
     "name": "stdout",
     "output_type": "stream",
     "text": [
      "3\n",
      "17\n",
      "23\n",
      "9\n"
     ]
    }
   ],
   "source": [
    "list = [1,1,2,2,3,5,5,6,6,17,23,9,5]\n",
    "\n",
    "def non_dupl(list):\n",
    "    for i in list:\n",
    "        a = list.count(i) # count how many times each number comes up\n",
    "        if a == 1:  # find numbers that only have a count of 1\n",
    "            print(i)\n",
    "\n",
    "non_dupl(list)      "
   ]
  },
  {
   "cell_type": "markdown",
   "metadata": {},
   "source": [
    "Class"
   ]
  },
  {
   "cell_type": "code",
   "execution_count": 22,
   "metadata": {},
   "outputs": [
    {
     "name": "stdout",
     "output_type": "stream",
     "text": [
      "3\n",
      "17\n",
      "23\n",
      "9\n"
     ]
    }
   ],
   "source": [
    "list = [1,1,2,2,3,5,5,6,6,17,23,9,5]\n",
    "\n",
    "class Nondupl:\n",
    "    def __init__(self, my_list ):\n",
    "        self.my_list = my_list\n",
    "\n",
    "    def non_dupl (self):\n",
    "        for i in self.my_list:\n",
    "            a = self.my_list.count(i) # count how many times each number comes up\n",
    "            if a == 1:  # find numbers that only have a count of 1\n",
    "                print(i) \n",
    "\n",
    "a = Nondupl(list)\n",
    "b = a.non_dupl()\n"
   ]
  }
 ],
 "metadata": {
  "interpreter": {
   "hash": "3ef13ed475499759d50b572fc21d72ea61b0374d098be71f05d3278c3ed3dea2"
  },
  "kernelspec": {
   "display_name": "Python 3.8.12 32-bit ('strive': conda)",
   "language": "python",
   "name": "python3"
  },
  "language_info": {
   "codemirror_mode": {
    "name": "ipython",
    "version": 3
   },
   "file_extension": ".py",
   "mimetype": "text/x-python",
   "name": "python",
   "nbconvert_exporter": "python",
   "pygments_lexer": "ipython3",
   "version": "3.8.12"
  },
  "orig_nbformat": 4
 },
 "nbformat": 4,
 "nbformat_minor": 2
}
