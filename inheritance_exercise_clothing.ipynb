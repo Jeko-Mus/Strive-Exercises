{
  "cells": [
    {
      "cell_type": "markdown",
      "metadata": {
        "id": "VSIsAF-Enrv5"
      },
      "source": [
        "# Inheritance Exercise Clothing\n",
        "\n",
        "The following code contains a Clothing parent class and two children classes: Shirt Pants and Blouse. Read through the code and fill out the TODOs. "
      ]
    },
    {
      "cell_type": "code",
      "execution_count": 13,
      "metadata": {
        "id": "bO3T1fppnrwB"
      },
      "outputs": [],
      "source": [
        "class Clothing:\n",
        "\n",
        "  #TODO: Create a class called clothing that has following attributes and methods\n",
        "    # attributes: color, size, style, price\n",
        "\n",
        "    # methods: change_price, calculate_discount & calculate shipping\n",
        "\n",
        "    \n",
        "    def __init__(self, color, size, style, price):\n",
        "        self.color = color\n",
        "        self.size = size\n",
        "        self.style = style\n",
        "        self.price = price\n",
        "        \n",
        "    def change_price(self, price):\n",
        "        self.price = price\n",
        "        \n",
        "    # calculate discount by multiplying self price and (1 - discount)\n",
        "    # return the discount value\n",
        "\n",
        "    def calculate_discount(self, discount):\n",
        "        self.discount = discount\n",
        "        discount_value = self.price*(1 - self.discount)\n",
        "        return discount_value\n",
        "\n",
        "    # shipping price = weight * rate\n",
        "    # return the shipping value \n",
        "\n",
        "    def calculate_shipping(self, weight, rate):\n",
        "        self.weight = weight\n",
        "        self.rate = rate\n",
        "        shipping_price = self.weight * self.rate\n",
        "        return shipping_price\n",
        "\n",
        "class Shirt(Clothing):\n",
        "\n",
        "  #TODO: Create a class called shirt that has following attributes and methods\n",
        "    # attributes: color, size, style, price, long_or_short\n",
        "\n",
        "    # methods: double_price, which has no inputs and returns two times\n",
        "    # the price of the blouse\n",
        "    \n",
        "    def __init__(self, color, size, style, price, long_or_short):\n",
        "        super().__init__(color, size, style, price)\n",
        "        self.long_or_short = long_or_short\n",
        "\n",
        "    \n",
        "    def double_price(self):\n",
        "        return 2*self.price\n",
        "    \n",
        "class Pants(Clothing):\n",
        "\n",
        "    def __init__(self, color, size, style, price, waist):\n",
        "        super().__init__(color, size, style, price)\n",
        "        self.waist = waist\n",
        "        \n",
        "    def calculate_discount(self, discount):\n",
        "        pass\n",
        "    \n",
        "# TODO: Write a class called Blouse, that inherits from the Clothing class\n",
        "# and has the the following attributes and methods:\n",
        "#   attributes: color, size, style, price, country_of_origin\n",
        "#     where country_of_origin is a string that holds the name of a \n",
        "#     country\n",
        "#\n",
        "#   methods: triple_price, which has no inputs and returns three times\n",
        "#     the price of the blouse\n",
        "#\n",
        "#\n",
        "class Blouse(Clothing):\n",
        "    def __init__(self, color, size, style, price, country_of_origin):\n",
        "        super().__init__(color, size, style, price)\n",
        "        self.country_of_origin = country_of_origin\n",
        "        \n",
        "    def triple_price(self):\n",
        "        return 3 * self.price\n",
        "\n",
        "# TODO: Add a method to the clothing class called calculate_shipping.\n",
        "#   The method has two inputs: weight and rate. Weight is a float\n",
        "#   representing the weight of the article of clothing. Rate is a float\n",
        "#   representing the shipping weight. The method returns weight * rate"
      ]
    },
    {
      "cell_type": "code",
      "execution_count": 11,
      "metadata": {
        "id": "UbeA6QBmnrwE"
      },
      "outputs": [
        {
          "name": "stdout",
          "output_type": "stream",
          "text": [
            "<__main__.Shirt object at 0x0419C070>\n",
            "80\n"
          ]
        }
      ],
      "source": [
        "a = Shirt(\"blu\",23,\"nice\",40,\"long\")\n",
        "print(a)\n",
        "b = a.double_price()\n",
        "print(b)"
      ]
    },
    {
      "cell_type": "code",
      "execution_count": 12,
      "metadata": {
        "id": "nlrkB2OAnrwH"
      },
      "outputs": [
        {
          "name": "stdout",
          "output_type": "stream",
          "text": [
            "120\n"
          ]
        }
      ],
      "source": [
        "c = Blouse(\"blu\",23,\"nice\",40,\"long\")\n",
        "d = c.triple_price()\n",
        "print(d)"
      ]
    }
  ],
  "metadata": {
    "colab": {
      "collapsed_sections": [],
      "name": "inheritance-exercise-clothing.ipynb",
      "provenance": []
    },
    "kernelspec": {
      "display_name": "Python 3",
      "language": "python",
      "name": "python3"
    },
    "language_info": {
      "codemirror_mode": {
        "name": "ipython",
        "version": 3
      },
      "file_extension": ".py",
      "mimetype": "text/x-python",
      "name": "python",
      "nbconvert_exporter": "python",
      "pygments_lexer": "ipython3",
      "version": "3.8.12"
    }
  },
  "nbformat": 4,
  "nbformat_minor": 0
}
