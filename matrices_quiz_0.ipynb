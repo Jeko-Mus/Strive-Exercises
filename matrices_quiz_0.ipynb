{
 "cells": [
  {
   "cell_type": "markdown",
   "metadata": {},
   "source": [
    "## Matrices"
   ]
  },
  {
   "cell_type": "code",
   "execution_count": 3,
   "metadata": {},
   "outputs": [],
   "source": [
    "import numpy as np"
   ]
  },
  {
   "cell_type": "markdown",
   "metadata": {},
   "source": [
    "Add a function, which returns a copy of nested lists of numbers such that the lists are not aliases:"
   ]
  },
  {
   "cell_type": "code",
   "execution_count": 4,
   "metadata": {},
   "outputs": [
    {
     "data": {
      "text/plain": [
       "[[1, 2], [3, 4], [5, 6], [7, 8]]"
      ]
     },
     "execution_count": 4,
     "metadata": {},
     "output_type": "execute_result"
    }
   ],
   "source": [
    "def copy_matrix(matrix):\n",
    "    m = matrix\n",
    "    return m\n",
    "\n",
    "copy_matrix([[1, 2], [3, 4], [5, 6], [7, 8]])"
   ]
  },
  {
   "cell_type": "code",
   "execution_count": 25,
   "metadata": {},
   "outputs": [
    {
     "data": {
      "text/plain": [
       "array([[3., 2., 5.],\n",
       "       [1., 4., 7.],\n",
       "       [0., 0., 0.]])"
      ]
     },
     "execution_count": 25,
     "metadata": {},
     "output_type": "execute_result"
    }
   ],
   "source": [
    "def add_row(matrix):\n",
    "    row = np.zeros(len(matrix[0]))\n",
    "    extra_row = np.vstack([matrix,row])\n",
    "    return extra_row\n",
    "\n",
    "add_row([[3, 2, 5], [1, 4, 7]])"
   ]
  },
  {
   "cell_type": "code",
   "execution_count": 62,
   "metadata": {},
   "outputs": [
    {
     "data": {
      "text/plain": [
       "array([[3, 2, 0],\n",
       "       [5, 1, 0],\n",
       "       [4, 7, 0]])"
      ]
     },
     "execution_count": 62,
     "metadata": {},
     "output_type": "execute_result"
    }
   ],
   "source": [
    "def add_column(matrix):\n",
    "    column = np.zeros((len(matrix),1), dtype = int)\n",
    "    extra_column = np.hstack([matrix,column])\n",
    "    return extra_column\n",
    "\n",
    "add_column([[3, 2], [5, 1], [4, 7]])\n"
   ]
  },
  {
   "cell_type": "markdown",
   "metadata": {},
   "source": [
    "Write a function add_matrices(m1, m2) that adds m1 and m2 and returns a new matrix containing their sum. You can assume that m1 and m2 are the same size. You add two matrices by adding their corresponding values."
   ]
  },
  {
   "cell_type": "code",
   "execution_count": 64,
   "metadata": {},
   "outputs": [
    {
     "data": {
      "text/plain": [
       "array([[3, 4],\n",
       "       [5, 6]])"
      ]
     },
     "execution_count": 64,
     "metadata": {},
     "output_type": "execute_result"
    }
   ],
   "source": [
    "def add_matrices(m1, m2):\n",
    "    m1_matrix = np.array(m1)\n",
    "    m2_matrix = np.array(m2)\n",
    "    result = m1_matrix + m2_matrix\n",
    "    return result\n",
    "\n",
    "a = [[1, 2], [3, 4]]\n",
    "b = [[2, 2], [2, 2]]\n",
    "add_matrices(a,b)"
   ]
  },
  {
   "cell_type": "markdown",
   "metadata": {},
   "source": [
    "Write a function scalar_mult(s, m) that multiplies a matrix, m, by a scalar, s."
   ]
  },
  {
   "cell_type": "code",
   "execution_count": 66,
   "metadata": {},
   "outputs": [
    {
     "data": {
      "text/plain": [
       "array([[30, 50, 70],\n",
       "       [10, 10, 10],\n",
       "       [ 0, 20,  0],\n",
       "       [20, 20, 30]])"
      ]
     },
     "execution_count": 66,
     "metadata": {},
     "output_type": "execute_result"
    }
   ],
   "source": [
    "def scalar_mult(s, m):\n",
    "    m_matrix = np.array(m)\n",
    "    multipl = m_matrix * s\n",
    "    return multipl\n",
    "\n",
    "b = [[3, 5, 7], [1, 1, 1], [0, 2, 0], [2, 2, 3]]\n",
    "scalar_mult(10,b)"
   ]
  },
  {
   "cell_type": "markdown",
   "metadata": {},
   "source": [
    "Write functions row_times_column and matrix_mult:"
   ]
  },
  {
   "cell_type": "code",
   "execution_count": 76,
   "metadata": {},
   "outputs": [
    {
     "data": {
      "text/plain": [
       "19"
      ]
     },
     "execution_count": 76,
     "metadata": {},
     "output_type": "execute_result"
    }
   ],
   "source": [
    "def row_times_column(m1, row, m2, column):\n",
    "    m_1 = np.array(m1)\n",
    "    m_2 = np.array(m2)\n",
    "    r_c = np.dot(m_1[row] , m_2[:,column])\n",
    "    return r_c\n",
    "\n",
    "row_times_column ([[1, 2], [3, 4]], 0, [[5, 6], [7, 8]], 0)\n",
    "    "
   ]
  },
  {
   "cell_type": "code",
   "execution_count": 77,
   "metadata": {},
   "outputs": [
    {
     "data": {
      "text/plain": [
       "array([[19, 22],\n",
       "       [43, 50]])"
      ]
     },
     "execution_count": 77,
     "metadata": {},
     "output_type": "execute_result"
    }
   ],
   "source": [
    "def matrix_mult(m1, m2):\n",
    "    multiply = np.dot(m1,m2)\n",
    "    return multiply\n",
    "\n",
    "matrix_mult([[1, 2], [3,  4]], [[5, 6], [7, 8]])\n",
    "\n",
    "    "
   ]
  },
  {
   "cell_type": "markdown",
   "metadata": {},
   "source": [
    "Write a function transpose that takes a matrix as an argument and returns is transpose:"
   ]
  },
  {
   "cell_type": "code",
   "execution_count": 71,
   "metadata": {},
   "outputs": [
    {
     "data": {
      "text/plain": [
       "array([[3, 1],\n",
       "       [4, 5],\n",
       "       [6, 9]])"
      ]
     },
     "execution_count": 71,
     "metadata": {},
     "output_type": "execute_result"
    }
   ],
   "source": [
    "def transpose(m):\n",
    "    transp = np.transpose(m)\n",
    "    return transp\n",
    "\n",
    "m = [[3, 4, 6], [1, 5, 9]]\n",
    "transpose(m)"
   ]
  }
 ],
 "metadata": {
  "interpreter": {
   "hash": "3ef13ed475499759d50b572fc21d72ea61b0374d098be71f05d3278c3ed3dea2"
  },
  "kernelspec": {
   "display_name": "Python 3.8.12 ('strive')",
   "language": "python",
   "name": "python3"
  },
  "language_info": {
   "codemirror_mode": {
    "name": "ipython",
    "version": 3
   },
   "file_extension": ".py",
   "mimetype": "text/x-python",
   "name": "python",
   "nbconvert_exporter": "python",
   "pygments_lexer": "ipython3",
   "version": "3.8.12"
  },
  "orig_nbformat": 4
 },
 "nbformat": 4,
 "nbformat_minor": 2
}
