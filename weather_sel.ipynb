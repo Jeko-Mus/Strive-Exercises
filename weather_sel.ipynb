{
 "cells": [
  {
   "cell_type": "code",
   "execution_count": 49,
   "metadata": {},
   "outputs": [],
   "source": [
    "import selenium\n",
    "from selenium import webdriver\n",
    "from selenium.webdriver.common.keys import Keys\n",
    "from selenium.webdriver.common.by import By\n",
    "from time import sleep\n",
    "import pandas as pd\n"
   ]
  },
  {
   "cell_type": "code",
   "execution_count": 50,
   "metadata": {},
   "outputs": [
    {
     "name": "stderr",
     "output_type": "stream",
     "text": [
      "C:\\Users\\Jeko\\AppData\\Local\\Temp/ipykernel_12428/3700868528.py:4: DeprecationWarning: executable_path has been deprecated, please pass in a Service object\n",
      "  driver = webdriver.Chrome(path)\n",
      "C:\\Users\\Jeko\\AppData\\Local\\Temp/ipykernel_12428/3700868528.py:16: DeprecationWarning: find_elements_by_* commands are deprecated. Please use find_elements() instead\n",
      "  weathers = driver.find_elements_by_id('MainContent')\n",
      "C:\\Users\\Jeko\\AppData\\Local\\Temp/ipykernel_12428/3700868528.py:19: DeprecationWarning: find_elements_by_* commands are deprecated. Please use find_elements() instead\n",
      "  day_date = driver.find_elements_by_class_name('DetailsSummary--daypartName--2FBp2').text\n"
     ]
    },
    {
     "ename": "AttributeError",
     "evalue": "'list' object has no attribute 'text'",
     "output_type": "error",
     "traceback": [
      "\u001b[1;31m---------------------------------------------------------------------------\u001b[0m",
      "\u001b[1;31mAttributeError\u001b[0m                            Traceback (most recent call last)",
      "\u001b[1;32m~\\AppData\\Local\\Temp/ipykernel_12428/3700868528.py\u001b[0m in \u001b[0;36m<module>\u001b[1;34m\u001b[0m\n\u001b[0;32m     17\u001b[0m \u001b[0mweek\u001b[0m \u001b[1;33m=\u001b[0m \u001b[1;33m[\u001b[0m\u001b[1;33m]\u001b[0m\u001b[1;33m\u001b[0m\u001b[1;33m\u001b[0m\u001b[0m\n\u001b[0;32m     18\u001b[0m \u001b[1;32mfor\u001b[0m \u001b[0mweather\u001b[0m \u001b[1;32min\u001b[0m \u001b[0mweathers\u001b[0m\u001b[1;33m:\u001b[0m\u001b[1;33m\u001b[0m\u001b[1;33m\u001b[0m\u001b[0m\n\u001b[1;32m---> 19\u001b[1;33m   \u001b[0mday_date\u001b[0m \u001b[1;33m=\u001b[0m \u001b[0mdriver\u001b[0m\u001b[1;33m.\u001b[0m\u001b[0mfind_elements_by_class_name\u001b[0m\u001b[1;33m(\u001b[0m\u001b[1;34m'DetailsSummary--daypartName--2FBp2'\u001b[0m\u001b[1;33m)\u001b[0m\u001b[1;33m.\u001b[0m\u001b[0mtext\u001b[0m\u001b[1;33m\u001b[0m\u001b[1;33m\u001b[0m\u001b[0m\n\u001b[0m\u001b[0;32m     20\u001b[0m   \u001b[0mlow_temp\u001b[0m \u001b[1;33m=\u001b[0m \u001b[0mdriver\u001b[0m\u001b[1;33m.\u001b[0m\u001b[0mfind_elements_by_class_name\u001b[0m\u001b[1;33m(\u001b[0m\u001b[1;34m'DetailsSummary--lowTempValue--3H-7I'\u001b[0m\u001b[1;33m)\u001b[0m\u001b[1;33m.\u001b[0m\u001b[0mtext\u001b[0m\u001b[1;33m\u001b[0m\u001b[1;33m\u001b[0m\u001b[0m\n\u001b[0;32m     21\u001b[0m   \u001b[0mhigh\u001b[0m \u001b[1;33m=\u001b[0m \u001b[0mdriver\u001b[0m\u001b[1;33m.\u001b[0m\u001b[0mfind_elements_by_class_name\u001b[0m\u001b[1;33m(\u001b[0m\u001b[1;34m'DetailsSummary--highTempValue--3Oteu'\u001b[0m\u001b[1;33m)\u001b[0m\u001b[1;33m.\u001b[0m\u001b[0mtext\u001b[0m\u001b[1;33m\u001b[0m\u001b[1;33m\u001b[0m\u001b[0m\n",
      "\u001b[1;31mAttributeError\u001b[0m: 'list' object has no attribute 'text'"
     ]
    }
   ],
   "source": [
    "url = \"https://weather.com/weather/tenday/l/San+Francisco+CA?canonicalCityId=dfdaba8cbe3a4d12a8796e1f7b1ccc7174b4b0a2d5ddb1c8566ae9f154fa638c\"\n",
    "path = \"chromedriver.exe\"\n",
    "\n",
    "driver = webdriver.Chrome(path)\n",
    "driver.get(url)\n",
    "\n",
    "\n",
    "\n",
    " #class Disclosure--Summary--UuybP DayparSDc\n",
    " #a = driver.find_elements_by_class_name(\"content\")\n",
    " #//*[@id=\"titleIndex1\"]/h2   day and date\n",
    " #//*[@id=\"titleIndex1\"]/div[1]/span[1] -high\n",
    " #//*[@id=\"titleIndex1\"]/div[1]/span[2]/span -low\n",
    " #//*[@id=\"detailIndex1\"]/div/div[3]/p  -desc\n",
    "\n",
    "weathers = driver.find_elements_by_id('MainContent')\n",
    "week = []\n",
    "for weather in weathers:\n",
    "  day_date = driver.find_elements_by_class_name('DetailsSummary--daypartName--2FBp2').text\n",
    "  low_temp = driver.find_elements_by_class_name('DetailsSummary--lowTempValue--3H-7I').text\n",
    "  high = driver.find_elements_by_class_name('DetailsSummary--highTempValue--3Oteu').text\n",
    "  desc = driver.find_elements_by_class_name('DailyContent--narrative--hplRl').text\n",
    "  print(day_date, low_temp, high, desc)\n",
    " # day_date = weather.find_element_by_xpath('.//*[@id=\"titleIndex1\"]/h2').text\n",
    "  #low_temp = weather.find_element_by_xpath('.//*[@id=\"titleIndex1\"]/div[1]/span[1]').text\n",
    "  #high = weather.find_element_by_xpath('.//*[@id=\"titleIndex1\"]/div[1]/span[2]/span').text\n",
    "  #desc = weather.find_element_by_xpath('.//*[//*[@id=\"detailIndex0\"]/div/div[1]/p]').text\n",
    "  #print(day_date, low_temp, high, desc)\n",
    "  \n",
    "  \n",
    "  #weather_item = {\n",
    "   # 'day date': day_date,\n",
    "    #'low temp': low_temp,\n",
    "    #'high temp': high,\n",
    "    #'description': desc\n",
    " # }\n",
    "\n",
    "  #week.append(weather_item)\n",
    "  #df = pd.DataFrame(week)\n",
    "  #print(df)\n",
    "\n",
    "\n",
    "\n",
    "#Tue = driver.find_elements_by_xpath('/html/body/div[1]/main/div[2]/main/div[1]/section/div[2]/details[2]/summary/div/div')\n",
    "                 #/html/body/div[1]/main/div[2]/main/div[1]/section/div[2]/details[2]/summary/div/div         \n",
    "#Wed = driver.find_elements_by_xpath('/html/body/div[1]/main/div[2]/main/div[1]/section/div[2]/details[2]')\n",
    "#print(Tue)\n",
    "#detail_title = soup.find_all(class_='detail-title')\n",
    "#ls = []\n",
    "#for el in Tue:\n",
    "  #print(el.text())\n",
    "#print(el.text().split()[1])\n",
    "#df = pd.DataFrame(data=ls)\n",
    "#print(ls)\n",
    "#divs = div2[0].find_all('p', class_ = 'temp')\n",
    "#for p in divs:\n",
    " #   print(p.get_text())\n",
    "#print(p.get_text().split()[1])\n",
    "#summary = driver.find_elements(By.XPATH('/html/body/div[1]/main/div[2]/main/div[1]/section/div[2]/details[2]'))\n",
    "#summary = driver.find_elements_by_xpath('/html/body/div[1]/main/div[2]/main/div[1]/section')\n",
    "#print(summary)\n",
    "\n",
    "# /html/body/div[1]/main/div[2]/main/div[1]/section/div[2]/details[2]/summary/div/div/h2\n",
    "# /html/body/div[1]/main/div[2]/main/div[1]/section/div[2]/details[3]/summary/div/div/h2\n",
    "\n"
   ]
  }
 ],
 "metadata": {
  "interpreter": {
   "hash": "3ef13ed475499759d50b572fc21d72ea61b0374d098be71f05d3278c3ed3dea2"
  },
  "kernelspec": {
   "display_name": "Python 3.8.12 ('strive')",
   "language": "python",
   "name": "python3"
  },
  "language_info": {
   "codemirror_mode": {
    "name": "ipython",
    "version": 3
   },
   "file_extension": ".py",
   "mimetype": "text/x-python",
   "name": "python",
   "nbconvert_exporter": "python",
   "pygments_lexer": "ipython3",
   "version": "3.8.12"
  },
  "orig_nbformat": 4
 },
 "nbformat": 4,
 "nbformat_minor": 2
}
